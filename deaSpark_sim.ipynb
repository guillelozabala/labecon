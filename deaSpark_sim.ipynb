{
 "cells": [
  {
   "cell_type": "code",
   "execution_count": 13,
   "metadata": {},
   "outputs": [],
   "source": [
    "import pyspark\n",
    "import pandas as pd"
   ]
  },
  {
   "cell_type": "code",
   "execution_count": 14,
   "metadata": {},
   "outputs": [],
   "source": [
    "from pyspark.sql import SparkSession"
   ]
  },
  {
   "cell_type": "code",
   "execution_count": 15,
   "metadata": {},
   "outputs": [],
   "source": [
    "import os\n",
    "os.environ[\"JAVA_HOME\"] = 'C:\\Program Files\\Java\\jre-1.8'"
   ]
  },
  {
   "cell_type": "code",
   "execution_count": 16,
   "metadata": {},
   "outputs": [
    {
     "ename": "ConnectionRefusedError",
     "evalue": "[WinError 10061] No connection could be made because the target machine actively refused it",
     "output_type": "error",
     "traceback": [
      "\u001b[1;31m---------------------------------------------------------------------------\u001b[0m",
      "\u001b[1;31mConnectionRefusedError\u001b[0m                    Traceback (most recent call last)",
      "\u001b[1;32mc:\\Users\\guill\\Documents\\Scripts\\urban\\deaSpark_sim.ipynb Cell 4\u001b[0m line \u001b[0;36m1\n\u001b[1;32m----> <a href='vscode-notebook-cell:/c%3A/Users/guill/Documents/Scripts/urban/deaSpark_sim.ipynb#W3sZmlsZQ%3D%3D?line=0'>1</a>\u001b[0m spark \u001b[39m=\u001b[39m SparkSession\u001b[39m.\u001b[39;49mbuilder\u001b[39m.\u001b[39;49mappName(\u001b[39m'\u001b[39;49m\u001b[39mpillsdata\u001b[39;49m\u001b[39m'\u001b[39;49m)\u001b[39m.\u001b[39;49mgetOrCreate()\n",
      "File \u001b[1;32mc:\\Users\\guill\\AppData\\Local\\Programs\\Python\\Python311\\Lib\\site-packages\\pyspark\\sql\\session.py:503\u001b[0m, in \u001b[0;36mSparkSession.Builder.getOrCreate\u001b[1;34m(self)\u001b[0m\n\u001b[0;32m    500\u001b[0m     session \u001b[39m=\u001b[39m SparkSession(sc, options\u001b[39m=\u001b[39m\u001b[39mself\u001b[39m\u001b[39m.\u001b[39m_options)\n\u001b[0;32m    501\u001b[0m \u001b[39melse\u001b[39;00m:\n\u001b[0;32m    502\u001b[0m     \u001b[39mgetattr\u001b[39m(\n\u001b[1;32m--> 503\u001b[0m         \u001b[39mgetattr\u001b[39;49m(session\u001b[39m.\u001b[39;49m_jvm, \u001b[39m\"\u001b[39;49m\u001b[39mSparkSession$\u001b[39;49m\u001b[39m\"\u001b[39;49m), \u001b[39m\"\u001b[39m\u001b[39mMODULE$\u001b[39m\u001b[39m\"\u001b[39m\n\u001b[0;32m    504\u001b[0m     )\u001b[39m.\u001b[39mapplyModifiableSettings(session\u001b[39m.\u001b[39m_jsparkSession, \u001b[39mself\u001b[39m\u001b[39m.\u001b[39m_options)\n\u001b[0;32m    505\u001b[0m \u001b[39mreturn\u001b[39;00m session\n",
      "File \u001b[1;32mc:\\Users\\guill\\AppData\\Local\\Programs\\Python\\Python311\\Lib\\site-packages\\py4j\\java_gateway.py:1712\u001b[0m, in \u001b[0;36mJVMView.__getattr__\u001b[1;34m(self, name)\u001b[0m\n\u001b[0;32m   1709\u001b[0m \u001b[39mif\u001b[39;00m name \u001b[39m==\u001b[39m UserHelpAutoCompletion\u001b[39m.\u001b[39mKEY:\n\u001b[0;32m   1710\u001b[0m     \u001b[39mreturn\u001b[39;00m UserHelpAutoCompletion()\n\u001b[1;32m-> 1712\u001b[0m answer \u001b[39m=\u001b[39m \u001b[39mself\u001b[39;49m\u001b[39m.\u001b[39;49m_gateway_client\u001b[39m.\u001b[39;49msend_command(\n\u001b[0;32m   1713\u001b[0m     proto\u001b[39m.\u001b[39;49mREFLECTION_COMMAND_NAME \u001b[39m+\u001b[39;49m\n\u001b[0;32m   1714\u001b[0m     proto\u001b[39m.\u001b[39;49mREFL_GET_UNKNOWN_SUB_COMMAND_NAME \u001b[39m+\u001b[39;49m name \u001b[39m+\u001b[39;49m \u001b[39m\"\u001b[39;49m\u001b[39m\\n\u001b[39;49;00m\u001b[39m\"\u001b[39;49m \u001b[39m+\u001b[39;49m \u001b[39mself\u001b[39;49m\u001b[39m.\u001b[39;49m_id \u001b[39m+\u001b[39;49m\n\u001b[0;32m   1715\u001b[0m     \u001b[39m\"\u001b[39;49m\u001b[39m\\n\u001b[39;49;00m\u001b[39m\"\u001b[39;49m \u001b[39m+\u001b[39;49m proto\u001b[39m.\u001b[39;49mEND_COMMAND_PART)\n\u001b[0;32m   1716\u001b[0m \u001b[39mif\u001b[39;00m answer \u001b[39m==\u001b[39m proto\u001b[39m.\u001b[39mSUCCESS_PACKAGE:\n\u001b[0;32m   1717\u001b[0m     \u001b[39mreturn\u001b[39;00m JavaPackage(name, \u001b[39mself\u001b[39m\u001b[39m.\u001b[39m_gateway_client, jvm_id\u001b[39m=\u001b[39m\u001b[39mself\u001b[39m\u001b[39m.\u001b[39m_id)\n",
      "File \u001b[1;32mc:\\Users\\guill\\AppData\\Local\\Programs\\Python\\Python311\\Lib\\site-packages\\py4j\\java_gateway.py:1036\u001b[0m, in \u001b[0;36mGatewayClient.send_command\u001b[1;34m(self, command, retry, binary)\u001b[0m\n\u001b[0;32m   1015\u001b[0m \u001b[39mdef\u001b[39;00m \u001b[39msend_command\u001b[39m(\u001b[39mself\u001b[39m, command, retry\u001b[39m=\u001b[39m\u001b[39mTrue\u001b[39;00m, binary\u001b[39m=\u001b[39m\u001b[39mFalse\u001b[39;00m):\n\u001b[0;32m   1016\u001b[0m \u001b[39m    \u001b[39m\u001b[39m\"\"\"Sends a command to the JVM. This method is not intended to be\u001b[39;00m\n\u001b[0;32m   1017\u001b[0m \u001b[39m       called directly by Py4J users. It is usually called by\u001b[39;00m\n\u001b[0;32m   1018\u001b[0m \u001b[39m       :class:`JavaMember` instances.\u001b[39;00m\n\u001b[1;32m   (...)\u001b[0m\n\u001b[0;32m   1034\u001b[0m \u001b[39m     if `binary` is `True`.\u001b[39;00m\n\u001b[0;32m   1035\u001b[0m \u001b[39m    \"\"\"\u001b[39;00m\n\u001b[1;32m-> 1036\u001b[0m     connection \u001b[39m=\u001b[39m \u001b[39mself\u001b[39;49m\u001b[39m.\u001b[39;49m_get_connection()\n\u001b[0;32m   1037\u001b[0m     \u001b[39mtry\u001b[39;00m:\n\u001b[0;32m   1038\u001b[0m         response \u001b[39m=\u001b[39m connection\u001b[39m.\u001b[39msend_command(command)\n",
      "File \u001b[1;32mc:\\Users\\guill\\AppData\\Local\\Programs\\Python\\Python311\\Lib\\site-packages\\py4j\\clientserver.py:284\u001b[0m, in \u001b[0;36mJavaClient._get_connection\u001b[1;34m(self)\u001b[0m\n\u001b[0;32m    281\u001b[0m     \u001b[39mpass\u001b[39;00m\n\u001b[0;32m    283\u001b[0m \u001b[39mif\u001b[39;00m connection \u001b[39mis\u001b[39;00m \u001b[39mNone\u001b[39;00m \u001b[39mor\u001b[39;00m connection\u001b[39m.\u001b[39msocket \u001b[39mis\u001b[39;00m \u001b[39mNone\u001b[39;00m:\n\u001b[1;32m--> 284\u001b[0m     connection \u001b[39m=\u001b[39m \u001b[39mself\u001b[39;49m\u001b[39m.\u001b[39;49m_create_new_connection()\n\u001b[0;32m    285\u001b[0m \u001b[39mreturn\u001b[39;00m connection\n",
      "File \u001b[1;32mc:\\Users\\guill\\AppData\\Local\\Programs\\Python\\Python311\\Lib\\site-packages\\py4j\\clientserver.py:291\u001b[0m, in \u001b[0;36mJavaClient._create_new_connection\u001b[1;34m(self)\u001b[0m\n\u001b[0;32m    287\u001b[0m \u001b[39mdef\u001b[39;00m \u001b[39m_create_new_connection\u001b[39m(\u001b[39mself\u001b[39m):\n\u001b[0;32m    288\u001b[0m     connection \u001b[39m=\u001b[39m ClientServerConnection(\n\u001b[0;32m    289\u001b[0m         \u001b[39mself\u001b[39m\u001b[39m.\u001b[39mjava_parameters, \u001b[39mself\u001b[39m\u001b[39m.\u001b[39mpython_parameters,\n\u001b[0;32m    290\u001b[0m         \u001b[39mself\u001b[39m\u001b[39m.\u001b[39mgateway_property, \u001b[39mself\u001b[39m)\n\u001b[1;32m--> 291\u001b[0m     connection\u001b[39m.\u001b[39;49mconnect_to_java_server()\n\u001b[0;32m    292\u001b[0m     \u001b[39mself\u001b[39m\u001b[39m.\u001b[39mset_thread_connection(connection)\n\u001b[0;32m    293\u001b[0m     \u001b[39mreturn\u001b[39;00m connection\n",
      "File \u001b[1;32mc:\\Users\\guill\\AppData\\Local\\Programs\\Python\\Python311\\Lib\\site-packages\\py4j\\clientserver.py:438\u001b[0m, in \u001b[0;36mClientServerConnection.connect_to_java_server\u001b[1;34m(self)\u001b[0m\n\u001b[0;32m    435\u001b[0m \u001b[39mif\u001b[39;00m \u001b[39mself\u001b[39m\u001b[39m.\u001b[39mssl_context:\n\u001b[0;32m    436\u001b[0m     \u001b[39mself\u001b[39m\u001b[39m.\u001b[39msocket \u001b[39m=\u001b[39m \u001b[39mself\u001b[39m\u001b[39m.\u001b[39mssl_context\u001b[39m.\u001b[39mwrap_socket(\n\u001b[0;32m    437\u001b[0m         \u001b[39mself\u001b[39m\u001b[39m.\u001b[39msocket, server_hostname\u001b[39m=\u001b[39m\u001b[39mself\u001b[39m\u001b[39m.\u001b[39mjava_address)\n\u001b[1;32m--> 438\u001b[0m \u001b[39mself\u001b[39m\u001b[39m.\u001b[39msocket\u001b[39m.\u001b[39mconnect((\u001b[39mself\u001b[39m\u001b[39m.\u001b[39mjava_address, \u001b[39mself\u001b[39m\u001b[39m.\u001b[39mjava_port))\n\u001b[0;32m    439\u001b[0m \u001b[39mself\u001b[39m\u001b[39m.\u001b[39mstream \u001b[39m=\u001b[39m \u001b[39mself\u001b[39m\u001b[39m.\u001b[39msocket\u001b[39m.\u001b[39mmakefile(\u001b[39m\"\u001b[39m\u001b[39mrb\u001b[39m\u001b[39m\"\u001b[39m)\n\u001b[0;32m    440\u001b[0m \u001b[39mself\u001b[39m\u001b[39m.\u001b[39mis_connected \u001b[39m=\u001b[39m \u001b[39mTrue\u001b[39;00m\n",
      "\u001b[1;31mConnectionRefusedError\u001b[0m: [WinError 10061] No connection could be made because the target machine actively refused it"
     ]
    }
   ],
   "source": [
    "spark = SparkSession.builder.appName('pillsdata').getOrCreate()"
   ]
  },
  {
   "cell_type": "code",
   "execution_count": 5,
   "metadata": {},
   "outputs": [
    {
     "data": {
      "text/html": [
       "\n",
       "            <div>\n",
       "                <p><b>SparkSession - in-memory</b></p>\n",
       "                \n",
       "        <div>\n",
       "            <p><b>SparkContext</b></p>\n",
       "\n",
       "            <p><a href=\"http://guillermo:4040\">Spark UI</a></p>\n",
       "\n",
       "            <dl>\n",
       "              <dt>Version</dt>\n",
       "                <dd><code>v3.5.0</code></dd>\n",
       "              <dt>Master</dt>\n",
       "                <dd><code>local[*]</code></dd>\n",
       "              <dt>AppName</dt>\n",
       "                <dd><code>pillsdata</code></dd>\n",
       "            </dl>\n",
       "        </div>\n",
       "        \n",
       "            </div>\n",
       "        "
      ],
      "text/plain": [
       "<pyspark.sql.session.SparkSession at 0x1ae3385a650>"
      ]
     },
     "execution_count": 5,
     "metadata": {},
     "output_type": "execute_result"
    }
   ],
   "source": [
    "spark"
   ]
  },
  {
   "cell_type": "code",
   "execution_count": 10,
   "metadata": {},
   "outputs": [],
   "source": [
    "DEA_data = spark.read.csv('D:/opioids/arcos_all_washpost/arcos_all_washpost.tsv', sep='\\t',header=True)"
   ]
  },
  {
   "cell_type": "code",
   "execution_count": 11,
   "metadata": {},
   "outputs": [
    {
     "name": "stdout",
     "output_type": "stream",
     "text": [
      "+---------------+----------------+--------------------+---------------------+-----------------+-----------------+-------------+--------------+------------+---------------+------------+-------------------+--------------------+--------------------+--------------------+---------------+----------+-----------+---------+------------+----------------+---------+-----------+-----------+--------+----+----------------+-------------+-------------+--------+----------------+------------------+-----------+--------------+--------------------+--------------------+-------+---------------------+---------------------+--------------------+--------------------+-------+\n",
      "|REPORTER_DEA_NO|REPORTER_BUS_ACT|       REPORTER_NAME|REPORTER_ADDL_CO_INFO|REPORTER_ADDRESS1|REPORTER_ADDRESS2|REPORTER_CITY|REPORTER_STATE|REPORTER_ZIP|REPORTER_COUNTY|BUYER_DEA_NO|      BUYER_BUS_ACT|          BUYER_NAME|  BUYER_ADDL_CO_INFO|      BUYER_ADDRESS1| BUYER_ADDRESS2|BUYER_CITY|BUYER_STATE|BUYER_ZIP|BUYER_COUNTY|TRANSACTION_CODE|DRUG_CODE|     NDC_NO|  DRUG_NAME|QUANTITY|UNIT|ACTION_INDICATOR|ORDER_FORM_NO|CORRECTION_NO|STRENGTH|TRANSACTION_DATE|CALC_BASE_WT_IN_GM|DOSAGE_UNIT|TRANSACTION_ID|        Product_Name|     Ingredient_Name|Measure|MME_Conversion_Factor|Combined_Labeler_Name|Revised_Company_Name|     Reporter_family|dos_str|\n",
      "+---------------+----------------+--------------------+---------------------+-----------------+-----------------+-------------+--------------+------------+---------------+------------+-------------------+--------------------+--------------------+--------------------+---------------+----------+-----------+---------+------------+----------------+---------+-----------+-----------+--------+----+----------------+-------------+-------------+--------+----------------+------------------+-----------+--------------+--------------------+--------------------+-------+---------------------+---------------------+--------------------+--------------------+-------+\n",
      "|      PA0006836|     DISTRIBUTOR|ACE SURGICAL SUPP...|                 null|1034 PEARL STREET|             null|     BROCKTON|            MA|        2301|       PLYMOUTH|   BT3484653|       PRACTITIONER|TABRIZI, HAMID R DMD|                null|389 MAIN STREET, ...|           null|    MALDEN|         MA|     2148|   MIDDLESEX|               S|     9193|00406036301|HYDROCODONE|     1.0|null|            null|         null|         null|    null|        12262012|            0.6054|      100.0|            64|HYDROCODONE BIT/A...|HYDROCODONE BITAR...|    TAB|                  1.0|           SpecGx LLC|        Mallinckrodt|ACE Surgical Supp...|   10.0|\n",
      "|      PA0021179|     DISTRIBUTOR|        APOTHECA INC|                 null|   1622 N 16TH ST|             null|      PHOENIX|            AZ|       85006|       MARICOPA|   BA9740019|    RETAIL PHARMACY|APOTHECARY SHOP D...|                null|     23620 N 20TH DR|            #12|   PHOENIX|         AZ|    85085|    MARICOPA|               S|     9193|12634051400|HYDROCODONE|     4.0|null|            null|         null|         null|    null|        03112009|           0.12108|       40.0|            52|HYDROCODONE BITAR...|HYDROCODONE BITAR...|    TAB|                  1.0|        Apotheca Inc.|       Apotheca Inc.|        Apotheca Inc|    5.0|\n",
      "|      PA0021179|     DISTRIBUTOR|        APOTHECA INC|                 null|   1622 N 16TH ST|             null|      PHOENIX|            AZ|       85006|       MARICOPA|   BH5651155|       PRACTITIONER|HOBBS, DOUGLAS DO...|                null|URGENT CARE EXTRA...|641 WEST WARNER|   GILBERT|         AZ|    85233|    MARICOPA|               S|     9193|12634051471|HYDROCODONE|    40.0|null|            null|         null|         null|    null|        11252008|            3.6324|     1200.0|           119|HYDROCODONE BITAR...|HYDROCODONE BITAR...|    TAB|                  1.0|        Apotheca Inc.|       Apotheca Inc.|        Apotheca Inc|    5.0|\n",
      "|      PA0021179|     DISTRIBUTOR|        APOTHECA INC|                 null|   1622 N 16TH ST|             null|      PHOENIX|            AZ|       85006|       MARICOPA|   BH5651155|       PRACTITIONER|HOBBS, DOUGLAS DO...|                null|URGENT CARE EXTRA...|641 WEST WARNER|   GILBERT|         AZ|    85233|    MARICOPA|               S|     9193|12634078371|HYDROCODONE|    20.0|null|            null|         null|         null|    null|        06122009|            2.7243|      600.0|            34|HYDROCODONEBITART...|HYDROCODONE BITAR...|    TAB|                  1.0|        Apotheca Inc.|       Apotheca Inc.|        Apotheca Inc|    7.5|\n",
      "|      PA0021179|     DISTRIBUTOR|        APOTHECA INC|                 null|   1622 N 16TH ST|             null|      PHOENIX|            AZ|       85006|       MARICOPA|   BH5651155|       PRACTITIONER|HOBBS, DOUGLAS DO...|                null|URGENT CARE EXTRA...|641 WEST WARNER|   GILBERT|         AZ|    85233|    MARICOPA|               S|     9193|12634051471|HYDROCODONE|    10.0|null|            null|         null|         null|    null|        10022009|            0.9081|      300.0|            19|HYDROCODONE BITAR...|HYDROCODONE BITAR...|    TAB|                  1.0|        Apotheca Inc.|       Apotheca Inc.|        Apotheca Inc|    5.0|\n",
      "|      PA0021179|     DISTRIBUTOR|        APOTHECA INC|                 null|   1622 N 16TH ST|             null|      PHOENIX|            AZ|       85006|       MARICOPA|   BH5651155|       PRACTITIONER|HOBBS, DOUGLAS DO...|                null|URGENT CARE EXTRA...|641 WEST WARNER|   GILBERT|         AZ|    85233|    MARICOPA|               S|     9193|12634051471|HYDROCODONE|    20.0|null|            null|         null|         null|    null|        03232010|            1.8162|      600.0|            73|HYDROCODONE BITAR...|HYDROCODONE BITAR...|    TAB|                  1.0|        Apotheca Inc.|       Apotheca Inc.|        Apotheca Inc|    5.0|\n",
      "|      PA0021179|     DISTRIBUTOR|        APOTHECA INC|                 null|   1622 N 16TH ST|             null|      PHOENIX|            AZ|       85006|       MARICOPA|   BJ5858002|       PRACTITIONER|JEFFERS, WILL VAH...|            NOW CARE|8251 W UNION HILL...|      SUITE 140|  GLENDALE|         AZ|    85308|    MARICOPA|               S|     9193|12634051485|HYDROCODONE|     5.0|null|            null|         null|         null|    null|        10112007|          0.227025|       75.0|            58|HYDROCODONE BITAR...|HYDROCODONE BITAR...|    TAB|                  1.0|        Apotheca Inc.|       Apotheca Inc.|        Apotheca Inc|    5.0|\n",
      "|      PA0021179|     DISTRIBUTOR|        APOTHECA INC|                 null|   1622 N 16TH ST|             null|      PHOENIX|            AZ|       85006|       MARICOPA|   BJ5858002|       PRACTITIONER|JEFFERS, WILL VAH...|            NOW CARE|8251 W UNION HILL...|      SUITE 140|  GLENDALE|         AZ|    85308|    MARICOPA|               S|     9193|12634051485|HYDROCODONE|    10.0|null|            null|         null|         null|    null|        01112008|           0.45405|      150.0|            79|HYDROCODONE BITAR...|HYDROCODONE BITAR...|    TAB|                  1.0|        Apotheca Inc.|       Apotheca Inc.|        Apotheca Inc|    5.0|\n",
      "|      PA0021179|     DISTRIBUTOR|        APOTHECA INC|                 null|   1622 N 16TH ST|             null|      PHOENIX|            AZ|       85006|       MARICOPA|   BJ5858002|       PRACTITIONER|JEFFERS, WILL VAH...|            NOW CARE|8251 W UNION HILL...|      SUITE 140|  GLENDALE|         AZ|    85308|    MARICOPA|               S|     9193|12634051485|HYDROCODONE|    10.0|null|            null|         null|         null|    null|        07142008|           0.45405|      150.0|            65|HYDROCODONE BITAR...|HYDROCODONE BITAR...|    TAB|                  1.0|        Apotheca Inc.|       Apotheca Inc.|        Apotheca Inc|    5.0|\n",
      "|      PA0021179|     DISTRIBUTOR|        APOTHECA INC|                 null|   1622 N 16TH ST|             null|      PHOENIX|            AZ|       85006|       MARICOPA|   BJ5858002|       PRACTITIONER|JEFFERS, WILL VAH...|            NOW CARE|8251 W UNION HILL...|      SUITE 140|  GLENDALE|         AZ|    85308|    MARICOPA|               S|     9193|12634051485|HYDROCODONE|    10.0|null|            null|         null|         null|    null|        12052012|           0.45405|      150.0|             5|HYDROCODONE BITAR...|HYDROCODONE BITAR...|    TAB|                  1.0|        Apotheca Inc.|       Apotheca Inc.|        Apotheca Inc|    5.0|\n",
      "|      PA0021179|     DISTRIBUTOR|        APOTHECA INC|                 null|   1622 N 16TH ST|             null|      PHOENIX|            AZ|       85006|       MARICOPA|   BK7485863|PRACTITIONER-DW/275|    KHOURY, MUFID MD|                null|6220 W BELL ROAD ...|           null|  GLENDALE|         AZ|    85308|    MARICOPA|               S|     9193|12634051480|HYDROCODONE|    10.0|null|            null|         null|         null|    null|        07242012|            0.6054|      200.0|            64|HYDROCODONE BITAR...|HYDROCODONE BITAR...|    TAB|                  1.0|        Apotheca Inc.|       Apotheca Inc.|        Apotheca Inc|    5.0|\n",
      "|      PA0021179|     DISTRIBUTOR|        APOTHECA INC|                 null|   1622 N 16TH ST|             null|      PHOENIX|            AZ|       85006|       MARICOPA|   BL2528404|       PRACTITIONER| LEDERMAN, EVAN S MD|                null|2222 E. HIGHLAND ...|      SUITE 300|   PHOENIX|         AZ|    85016|    MARICOPA|               S|     9193|12634078371|HYDROCODONE|    10.0|null|            null|         null|     00000771|    null|        01072008|           1.36215|      300.0|            53|HYDROCODONEBITART...|HYDROCODONE BITAR...|    TAB|                  1.0|        Apotheca Inc.|       Apotheca Inc.|        Apotheca Inc|    7.5|\n",
      "|      PA0021179|     DISTRIBUTOR|        APOTHECA INC|                 null|   1622 N 16TH ST|             null|      PHOENIX|            AZ|       85006|       MARICOPA|   BN9327859|       PRACTITIONER| NUCATOLA, DEBORAH L|                null| 5400 RALSTON STREET|           null|   VENTURA|         CA|    93003|     VENTURA|               S|     9193|12634051400|HYDROCODONE|    20.0|null|            null|         null|         null|    null|        02092007|            0.6054|      200.0|            30|HYDROCODONE BITAR...|HYDROCODONE BITAR...|    TAB|                  1.0|        Apotheca Inc.|       Apotheca Inc.|        Apotheca Inc|    5.0|\n",
      "|      PA0021179|     DISTRIBUTOR|        APOTHECA INC|                 null|   1622 N 16TH ST|             null|      PHOENIX|            AZ|       85006|       MARICOPA|   BS7305039|       PRACTITIONER| SAWYER, JEFFRY S MD|                null|  5615 S SOSSAMAN RD|           null|      MESA|         AZ|    85212|    MARICOPA|               S|     9193|12634051471|HYDROCODONE|    40.0|null|            null|         null|         null|    null|        09122007|            3.6324|     1200.0|            68|HYDROCODONE BITAR...|HYDROCODONE BITAR...|    TAB|                  1.0|        Apotheca Inc.|       Apotheca Inc.|        Apotheca Inc|    5.0|\n",
      "|      PA0021179|     DISTRIBUTOR|        APOTHECA INC|                 null|   1622 N 16TH ST|             null|      PHOENIX|            AZ|       85006|       MARICOPA|   BS7305039|       PRACTITIONER| SAWYER, JEFFRY S MD|                null|  5615 S SOSSAMAN RD|           null|      MESA|         AZ|    85212|    MARICOPA|               S|     9193|12634051471|HYDROCODONE|    20.0|null|            null|         null|         null|    null|        11072008|            1.8162|      600.0|            23|HYDROCODONE BITAR...|HYDROCODONE BITAR...|    TAB|                  1.0|        Apotheca Inc.|       Apotheca Inc.|        Apotheca Inc|    5.0|\n",
      "|      PA0021179|     DISTRIBUTOR|        APOTHECA INC|                 null|   1622 N 16TH ST|             null|      PHOENIX|            AZ|       85006|       MARICOPA|   BS7305039|       PRACTITIONER| SAWYER, JEFFRY S MD|                null|  5615 S SOSSAMAN RD|           null|      MESA|         AZ|    85212|    MARICOPA|               S|     9193|12634078371|HYDROCODONE|    20.0|null|            null|         null|         null|    null|        10122009|            2.7243|      600.0|            51|HYDROCODONEBITART...|HYDROCODONE BITAR...|    TAB|                  1.0|        Apotheca Inc.|       Apotheca Inc.|        Apotheca Inc|    7.5|\n",
      "|      PA0021179|     DISTRIBUTOR|        APOTHECA INC|                 null|   1622 N 16TH ST|             null|      PHOENIX|            AZ|       85006|       MARICOPA|   BS7305039|       PRACTITIONER| SAWYER, JEFFRY S MD|                null|  5615 S SOSSAMAN RD|           null|      MESA|         AZ|    85212|    MARICOPA|               S|     9193|12634078371|HYDROCODONE|    10.0|null|            null|         null|         null|    null|        02042012|           1.36215|      300.0|            16|HYDROCODONEBITART...|HYDROCODONE BITAR...|    TAB|                  1.0|        Apotheca Inc.|       Apotheca Inc.|        Apotheca Inc|    7.5|\n",
      "|      PA0021179|     DISTRIBUTOR|        APOTHECA INC|                 null|   1622 N 16TH ST|             null|      PHOENIX|            AZ|       85006|       MARICOPA|   BS9061336|PRACTITIONER-DW/275|SLOAN, RICK MICHA...|COMPASSIONATE CAR...|3201 WEST PEORIA ...|     SUITE D805|   PHOENIX|         AZ|    85029|    MARICOPA|               S|     9193|12634051480|HYDROCODONE|    10.0|null|            null|         null|         null|    null|        01172011|            0.6054|      200.0|            48|HYDROCODONE BITAR...|HYDROCODONE BITAR...|    TAB|                  1.0|        Apotheca Inc.|       Apotheca Inc.|        Apotheca Inc|    5.0|\n",
      "|      PA0021179|     DISTRIBUTOR|        APOTHECA INC|                 null|   1622 N 16TH ST|             null|      PHOENIX|            AZ|       85006|       MARICOPA|   BT6145937|       PRACTITIONER|TORRES, JOHN EDUA...|COMPLETE EMERGENC...| 2035 S. PUEBLO BLVD|           null|    PUEBLO|         CO|    81005|      PUEBLO|               S|     9193|12634051485|HYDROCODONE|    10.0|null|            null|         null|         null|    null|        01122009|           0.45405|      150.0|            30|HYDROCODONE BITAR...|HYDROCODONE BITAR...|    TAB|                  1.0|        Apotheca Inc.|       Apotheca Inc.|        Apotheca Inc|    5.0|\n",
      "|      PA0021179|     DISTRIBUTOR|        APOTHECA INC|                 null|   1622 N 16TH ST|             null|      PHOENIX|            AZ|       85006|       MARICOPA|   FA1240592|    RETAIL PHARMACY|AVELLA OF DEER VA...|                null| 23620 N 20TH DR #12|           null|   PHOENIX|         AZ|    85085|    MARICOPA|               S|     9193|12634051496|HYDROCODONE|     4.0|null|            null|         null|         null|    null|        11052009|          0.072648|       24.0|            24|HYDROCODONE BITAR...|HYDROCODONE BITAR...|    TAB|                  1.0|        Apotheca Inc.|       Apotheca Inc.|        Apotheca Inc|    5.0|\n",
      "+---------------+----------------+--------------------+---------------------+-----------------+-----------------+-------------+--------------+------------+---------------+------------+-------------------+--------------------+--------------------+--------------------+---------------+----------+-----------+---------+------------+----------------+---------+-----------+-----------+--------+----+----------------+-------------+-------------+--------+----------------+------------------+-----------+--------------+--------------------+--------------------+-------+---------------------+---------------------+--------------------+--------------------+-------+\n",
      "only showing top 20 rows\n",
      "\n"
     ]
    }
   ],
   "source": [
    "DEA_data.show()"
   ]
  },
  {
   "cell_type": "code",
   "execution_count": 7,
   "metadata": {},
   "outputs": [],
   "source": [
    "import pyspark.sql.functions as f\n",
    "from pyspark.sql import functions as F\n",
    "from pyspark.sql.functions import *\n",
    "from pyspark.sql.types import IntegerType\n",
    "\n",
    "DEA_data = DEA_data.select(['BUYER_STATE','BUYER_COUNTY','DRUG_NAME','DOSAGE_UNIT','TRANSACTION_DATE'])\n",
    "\n",
    "DEA_data = DEA_data.withColumn(\n",
    "    \"year\",\n",
    "    F.substring(F.col(\"TRANSACTION_DATE\"), 5, 4)\n",
    ")\n",
    "\n",
    "DEA_data = DEA_data.withColumn(\n",
    "    \"month\",\n",
    "    F.substring(F.col(\"TRANSACTION_DATE\"), 1, 2)\n",
    ")\n",
    "\n",
    "DEA_data = DEA_data.drop('TRANSACTION_DATE')\n",
    "\n",
    "#DEA_data = DEA_data.withColumn(\"year\",DEA_data.year.cast(IntegerType()))\n",
    "#DEA_data = DEA_data.withColumn(\"month\",DEA_data.year.cast(IntegerType()))\n",
    "#DEA_data.filter((DEA_data.year==2006)&(DEA_data.month==1))\n",
    "\n",
    "DEA_hyd = DEA_data.filter(DEA_data.DRUG_NAME == 'HYDROCODONE') \n",
    "DEA_hyd = DEA_hyd.drop('DRUG_NAME')\n",
    "#DEA_hyd = DEA_hyd.withColumnRenamed(\"QUANTITY\", \"hydQUANTITY\")\n",
    "DEA_hyd = DEA_hyd.withColumn(\"DOSAGE_UNIT\",DEA_hyd.DOSAGE_UNIT.cast(IntegerType()))\n",
    "DEA_hyd = DEA_hyd.groupBy('BUYER_STATE','BUYER_COUNTY','year','month').sum('DOSAGE_UNIT')\n",
    "\n",
    "DEA_hyd.toPandas().to_csv('D:/opioids/hydrocodone_agg.csv')"
   ]
  },
  {
   "cell_type": "code",
   "execution_count": 8,
   "metadata": {},
   "outputs": [],
   "source": [
    "DEA_oxy = DEA_data.filter(DEA_data.DRUG_NAME == 'OXYCODONE')\n",
    "DEA_oxy = DEA_oxy.drop('DRUG_NAME')\n",
    "#DEA_oxy = DEA_oxy.withColumnRenamed(\"QUANTITY\", \"oxyQUANTITY\")\n",
    "DEA_oxy = DEA_oxy.withColumn(\"DOSAGE_UNIT\",DEA_oxy.DOSAGE_UNIT.cast(IntegerType()))\n",
    "\n",
    "DEA_oxy = DEA_oxy.groupBy('BUYER_STATE','BUYER_COUNTY','year','month').sum('DOSAGE_UNIT')\n",
    "\n",
    "DEA_oxy.toPandas().to_csv('D:/opioids/oxycodone_agg.csv')\n"
   ]
  },
  {
   "cell_type": "code",
   "execution_count": 12,
   "metadata": {},
   "outputs": [
    {
     "ename": "ConnectionRefusedError",
     "evalue": "[WinError 10061] No connection could be made because the target machine actively refused it",
     "output_type": "error",
     "traceback": [
      "\u001b[1;31m---------------------------------------------------------------------------\u001b[0m",
      "\u001b[1;31mConnectionResetError\u001b[0m                      Traceback (most recent call last)",
      "File \u001b[1;32mc:\\Users\\guill\\AppData\\Local\\Programs\\Python\\Python311\\Lib\\site-packages\\py4j\\clientserver.py:503\u001b[0m, in \u001b[0;36mClientServerConnection.send_command\u001b[1;34m(self, command)\u001b[0m\n\u001b[0;32m    502\u001b[0m \u001b[39mtry\u001b[39;00m:\n\u001b[1;32m--> 503\u001b[0m     \u001b[39mself\u001b[39;49m\u001b[39m.\u001b[39;49msocket\u001b[39m.\u001b[39;49msendall(command\u001b[39m.\u001b[39;49mencode(\u001b[39m\"\u001b[39;49m\u001b[39mutf-8\u001b[39;49m\u001b[39m\"\u001b[39;49m))\n\u001b[0;32m    504\u001b[0m \u001b[39mexcept\u001b[39;00m \u001b[39mException\u001b[39;00m \u001b[39mas\u001b[39;00m e:\n",
      "\u001b[1;31mConnectionResetError\u001b[0m: [WinError 10054] An existing connection was forcibly closed by the remote host",
      "\nDuring handling of the above exception, another exception occurred:\n",
      "\u001b[1;31mPy4JNetworkError\u001b[0m                          Traceback (most recent call last)",
      "File \u001b[1;32mc:\\Users\\guill\\AppData\\Local\\Programs\\Python\\Python311\\Lib\\site-packages\\py4j\\java_gateway.py:1038\u001b[0m, in \u001b[0;36mGatewayClient.send_command\u001b[1;34m(self, command, retry, binary)\u001b[0m\n\u001b[0;32m   1037\u001b[0m \u001b[39mtry\u001b[39;00m:\n\u001b[1;32m-> 1038\u001b[0m     response \u001b[39m=\u001b[39m connection\u001b[39m.\u001b[39;49msend_command(command)\n\u001b[0;32m   1039\u001b[0m     \u001b[39mif\u001b[39;00m binary:\n",
      "File \u001b[1;32mc:\\Users\\guill\\AppData\\Local\\Programs\\Python\\Python311\\Lib\\site-packages\\py4j\\clientserver.py:506\u001b[0m, in \u001b[0;36mClientServerConnection.send_command\u001b[1;34m(self, command)\u001b[0m\n\u001b[0;32m    505\u001b[0m     logger\u001b[39m.\u001b[39minfo(\u001b[39m\"\u001b[39m\u001b[39mError while sending or receiving.\u001b[39m\u001b[39m\"\u001b[39m, exc_info\u001b[39m=\u001b[39m\u001b[39mTrue\u001b[39;00m)\n\u001b[1;32m--> 506\u001b[0m     \u001b[39mraise\u001b[39;00m Py4JNetworkError(\n\u001b[0;32m    507\u001b[0m         \u001b[39m\"\u001b[39m\u001b[39mError while sending\u001b[39m\u001b[39m\"\u001b[39m, e, proto\u001b[39m.\u001b[39mERROR_ON_SEND)\n\u001b[0;32m    509\u001b[0m \u001b[39mtry\u001b[39;00m:\n",
      "\u001b[1;31mPy4JNetworkError\u001b[0m: Error while sending",
      "\nDuring handling of the above exception, another exception occurred:\n",
      "\u001b[1;31mConnectionRefusedError\u001b[0m                    Traceback (most recent call last)",
      "\u001b[1;32mc:\\Users\\guill\\Documents\\Scripts\\urban\\deaSpark_sim.ipynb Cell 10\u001b[0m line \u001b[0;36m1\n\u001b[1;32m----> <a href='vscode-notebook-cell:/c%3A/Users/guill/Documents/Scripts/urban/deaSpark_sim.ipynb#X11sZmlsZQ%3D%3D?line=0'>1</a>\u001b[0m pop_data \u001b[39m=\u001b[39m spark\u001b[39m.\u001b[39;49mread\u001b[39m.\u001b[39mtext(\u001b[39m'\u001b[39m\u001b[39mD:/opioids/us.1969_2020.19ages.adjusted.txt\u001b[39m\u001b[39m'\u001b[39m)\n",
      "File \u001b[1;32mc:\\Users\\guill\\AppData\\Local\\Programs\\Python\\Python311\\Lib\\site-packages\\pyspark\\sql\\session.py:1706\u001b[0m, in \u001b[0;36mSparkSession.read\u001b[1;34m(self)\u001b[0m\n\u001b[0;32m   1669\u001b[0m \u001b[39m@property\u001b[39m\n\u001b[0;32m   1670\u001b[0m \u001b[39mdef\u001b[39;00m \u001b[39mread\u001b[39m(\u001b[39mself\u001b[39m) \u001b[39m-\u001b[39m\u001b[39m>\u001b[39m DataFrameReader:\n\u001b[0;32m   1671\u001b[0m \u001b[39m    \u001b[39m\u001b[39m\"\"\"\u001b[39;00m\n\u001b[0;32m   1672\u001b[0m \u001b[39m    Returns a :class:`DataFrameReader` that can be used to read data\u001b[39;00m\n\u001b[0;32m   1673\u001b[0m \u001b[39m    in as a :class:`DataFrame`.\u001b[39;00m\n\u001b[1;32m   (...)\u001b[0m\n\u001b[0;32m   1704\u001b[0m \u001b[39m    +---+------------+\u001b[39;00m\n\u001b[0;32m   1705\u001b[0m \u001b[39m    \"\"\"\u001b[39;00m\n\u001b[1;32m-> 1706\u001b[0m     \u001b[39mreturn\u001b[39;00m DataFrameReader(\u001b[39mself\u001b[39;49m)\n",
      "File \u001b[1;32mc:\\Users\\guill\\AppData\\Local\\Programs\\Python\\Python311\\Lib\\site-packages\\pyspark\\sql\\readwriter.py:70\u001b[0m, in \u001b[0;36mDataFrameReader.__init__\u001b[1;34m(self, spark)\u001b[0m\n\u001b[0;32m     69\u001b[0m \u001b[39mdef\u001b[39;00m \u001b[39m__init__\u001b[39m(\u001b[39mself\u001b[39m, spark: \u001b[39m\"\u001b[39m\u001b[39mSparkSession\u001b[39m\u001b[39m\"\u001b[39m):\n\u001b[1;32m---> 70\u001b[0m     \u001b[39mself\u001b[39m\u001b[39m.\u001b[39m_jreader \u001b[39m=\u001b[39m spark\u001b[39m.\u001b[39;49m_jsparkSession\u001b[39m.\u001b[39;49mread()\n\u001b[0;32m     71\u001b[0m     \u001b[39mself\u001b[39m\u001b[39m.\u001b[39m_spark \u001b[39m=\u001b[39m spark\n",
      "File \u001b[1;32mc:\\Users\\guill\\AppData\\Local\\Programs\\Python\\Python311\\Lib\\site-packages\\py4j\\java_gateway.py:1321\u001b[0m, in \u001b[0;36mJavaMember.__call__\u001b[1;34m(self, *args)\u001b[0m\n\u001b[0;32m   1314\u001b[0m args_command, temp_args \u001b[39m=\u001b[39m \u001b[39mself\u001b[39m\u001b[39m.\u001b[39m_build_args(\u001b[39m*\u001b[39margs)\n\u001b[0;32m   1316\u001b[0m command \u001b[39m=\u001b[39m proto\u001b[39m.\u001b[39mCALL_COMMAND_NAME \u001b[39m+\u001b[39m\\\n\u001b[0;32m   1317\u001b[0m     \u001b[39mself\u001b[39m\u001b[39m.\u001b[39mcommand_header \u001b[39m+\u001b[39m\\\n\u001b[0;32m   1318\u001b[0m     args_command \u001b[39m+\u001b[39m\\\n\u001b[0;32m   1319\u001b[0m     proto\u001b[39m.\u001b[39mEND_COMMAND_PART\n\u001b[1;32m-> 1321\u001b[0m answer \u001b[39m=\u001b[39m \u001b[39mself\u001b[39;49m\u001b[39m.\u001b[39;49mgateway_client\u001b[39m.\u001b[39;49msend_command(command)\n\u001b[0;32m   1322\u001b[0m return_value \u001b[39m=\u001b[39m get_return_value(\n\u001b[0;32m   1323\u001b[0m     answer, \u001b[39mself\u001b[39m\u001b[39m.\u001b[39mgateway_client, \u001b[39mself\u001b[39m\u001b[39m.\u001b[39mtarget_id, \u001b[39mself\u001b[39m\u001b[39m.\u001b[39mname)\n\u001b[0;32m   1325\u001b[0m \u001b[39mfor\u001b[39;00m temp_arg \u001b[39min\u001b[39;00m temp_args:\n",
      "File \u001b[1;32mc:\\Users\\guill\\AppData\\Local\\Programs\\Python\\Python311\\Lib\\site-packages\\py4j\\java_gateway.py:1053\u001b[0m, in \u001b[0;36mGatewayClient.send_command\u001b[1;34m(self, command, retry, binary)\u001b[0m\n\u001b[0;32m   1051\u001b[0m \u001b[39mif\u001b[39;00m \u001b[39mself\u001b[39m\u001b[39m.\u001b[39m_should_retry(retry, connection, pne):\n\u001b[0;32m   1052\u001b[0m     logging\u001b[39m.\u001b[39minfo(\u001b[39m\"\u001b[39m\u001b[39mException while sending command.\u001b[39m\u001b[39m\"\u001b[39m, exc_info\u001b[39m=\u001b[39m\u001b[39mTrue\u001b[39;00m)\n\u001b[1;32m-> 1053\u001b[0m     response \u001b[39m=\u001b[39m \u001b[39mself\u001b[39;49m\u001b[39m.\u001b[39;49msend_command(command, binary\u001b[39m=\u001b[39;49mbinary)\n\u001b[0;32m   1054\u001b[0m \u001b[39melse\u001b[39;00m:\n\u001b[0;32m   1055\u001b[0m     logging\u001b[39m.\u001b[39mexception(\n\u001b[0;32m   1056\u001b[0m         \u001b[39m\"\u001b[39m\u001b[39mException while sending command.\u001b[39m\u001b[39m\"\u001b[39m)\n",
      "File \u001b[1;32mc:\\Users\\guill\\AppData\\Local\\Programs\\Python\\Python311\\Lib\\site-packages\\py4j\\java_gateway.py:1036\u001b[0m, in \u001b[0;36mGatewayClient.send_command\u001b[1;34m(self, command, retry, binary)\u001b[0m\n\u001b[0;32m   1015\u001b[0m \u001b[39mdef\u001b[39;00m \u001b[39msend_command\u001b[39m(\u001b[39mself\u001b[39m, command, retry\u001b[39m=\u001b[39m\u001b[39mTrue\u001b[39;00m, binary\u001b[39m=\u001b[39m\u001b[39mFalse\u001b[39;00m):\n\u001b[0;32m   1016\u001b[0m \u001b[39m    \u001b[39m\u001b[39m\"\"\"Sends a command to the JVM. This method is not intended to be\u001b[39;00m\n\u001b[0;32m   1017\u001b[0m \u001b[39m       called directly by Py4J users. It is usually called by\u001b[39;00m\n\u001b[0;32m   1018\u001b[0m \u001b[39m       :class:`JavaMember` instances.\u001b[39;00m\n\u001b[1;32m   (...)\u001b[0m\n\u001b[0;32m   1034\u001b[0m \u001b[39m     if `binary` is `True`.\u001b[39;00m\n\u001b[0;32m   1035\u001b[0m \u001b[39m    \"\"\"\u001b[39;00m\n\u001b[1;32m-> 1036\u001b[0m     connection \u001b[39m=\u001b[39m \u001b[39mself\u001b[39;49m\u001b[39m.\u001b[39;49m_get_connection()\n\u001b[0;32m   1037\u001b[0m     \u001b[39mtry\u001b[39;00m:\n\u001b[0;32m   1038\u001b[0m         response \u001b[39m=\u001b[39m connection\u001b[39m.\u001b[39msend_command(command)\n",
      "File \u001b[1;32mc:\\Users\\guill\\AppData\\Local\\Programs\\Python\\Python311\\Lib\\site-packages\\py4j\\clientserver.py:284\u001b[0m, in \u001b[0;36mJavaClient._get_connection\u001b[1;34m(self)\u001b[0m\n\u001b[0;32m    281\u001b[0m     \u001b[39mpass\u001b[39;00m\n\u001b[0;32m    283\u001b[0m \u001b[39mif\u001b[39;00m connection \u001b[39mis\u001b[39;00m \u001b[39mNone\u001b[39;00m \u001b[39mor\u001b[39;00m connection\u001b[39m.\u001b[39msocket \u001b[39mis\u001b[39;00m \u001b[39mNone\u001b[39;00m:\n\u001b[1;32m--> 284\u001b[0m     connection \u001b[39m=\u001b[39m \u001b[39mself\u001b[39;49m\u001b[39m.\u001b[39;49m_create_new_connection()\n\u001b[0;32m    285\u001b[0m \u001b[39mreturn\u001b[39;00m connection\n",
      "File \u001b[1;32mc:\\Users\\guill\\AppData\\Local\\Programs\\Python\\Python311\\Lib\\site-packages\\py4j\\clientserver.py:291\u001b[0m, in \u001b[0;36mJavaClient._create_new_connection\u001b[1;34m(self)\u001b[0m\n\u001b[0;32m    287\u001b[0m \u001b[39mdef\u001b[39;00m \u001b[39m_create_new_connection\u001b[39m(\u001b[39mself\u001b[39m):\n\u001b[0;32m    288\u001b[0m     connection \u001b[39m=\u001b[39m ClientServerConnection(\n\u001b[0;32m    289\u001b[0m         \u001b[39mself\u001b[39m\u001b[39m.\u001b[39mjava_parameters, \u001b[39mself\u001b[39m\u001b[39m.\u001b[39mpython_parameters,\n\u001b[0;32m    290\u001b[0m         \u001b[39mself\u001b[39m\u001b[39m.\u001b[39mgateway_property, \u001b[39mself\u001b[39m)\n\u001b[1;32m--> 291\u001b[0m     connection\u001b[39m.\u001b[39;49mconnect_to_java_server()\n\u001b[0;32m    292\u001b[0m     \u001b[39mself\u001b[39m\u001b[39m.\u001b[39mset_thread_connection(connection)\n\u001b[0;32m    293\u001b[0m     \u001b[39mreturn\u001b[39;00m connection\n",
      "File \u001b[1;32mc:\\Users\\guill\\AppData\\Local\\Programs\\Python\\Python311\\Lib\\site-packages\\py4j\\clientserver.py:438\u001b[0m, in \u001b[0;36mClientServerConnection.connect_to_java_server\u001b[1;34m(self)\u001b[0m\n\u001b[0;32m    435\u001b[0m \u001b[39mif\u001b[39;00m \u001b[39mself\u001b[39m\u001b[39m.\u001b[39mssl_context:\n\u001b[0;32m    436\u001b[0m     \u001b[39mself\u001b[39m\u001b[39m.\u001b[39msocket \u001b[39m=\u001b[39m \u001b[39mself\u001b[39m\u001b[39m.\u001b[39mssl_context\u001b[39m.\u001b[39mwrap_socket(\n\u001b[0;32m    437\u001b[0m         \u001b[39mself\u001b[39m\u001b[39m.\u001b[39msocket, server_hostname\u001b[39m=\u001b[39m\u001b[39mself\u001b[39m\u001b[39m.\u001b[39mjava_address)\n\u001b[1;32m--> 438\u001b[0m \u001b[39mself\u001b[39;49m\u001b[39m.\u001b[39;49msocket\u001b[39m.\u001b[39;49mconnect((\u001b[39mself\u001b[39;49m\u001b[39m.\u001b[39;49mjava_address, \u001b[39mself\u001b[39;49m\u001b[39m.\u001b[39;49mjava_port))\n\u001b[0;32m    439\u001b[0m \u001b[39mself\u001b[39m\u001b[39m.\u001b[39mstream \u001b[39m=\u001b[39m \u001b[39mself\u001b[39m\u001b[39m.\u001b[39msocket\u001b[39m.\u001b[39mmakefile(\u001b[39m\"\u001b[39m\u001b[39mrb\u001b[39m\u001b[39m\"\u001b[39m)\n\u001b[0;32m    440\u001b[0m \u001b[39mself\u001b[39m\u001b[39m.\u001b[39mis_connected \u001b[39m=\u001b[39m \u001b[39mTrue\u001b[39;00m\n",
      "\u001b[1;31mConnectionRefusedError\u001b[0m: [WinError 10061] No connection could be made because the target machine actively refused it"
     ]
    }
   ],
   "source": [
    "pop_data = spark.read.text('D:/opioids/us.1969_2020.19ages.adjusted.txt')"
   ]
  },
  {
   "cell_type": "code",
   "execution_count": 7,
   "metadata": {},
   "outputs": [
    {
     "name": "stdout",
     "output_type": "stream",
     "text": [
      "+--------------------+\n",
      "|               value|\n",
      "+--------------------+\n",
      "|1969AL01001991910...|\n",
      "|1969AL01001991910...|\n",
      "|1969AL01001991910...|\n",
      "|1969AL01001991910...|\n",
      "|1969AL01001991910...|\n",
      "|1969AL01001991910...|\n",
      "|1969AL01001991910...|\n",
      "|1969AL01001991910...|\n",
      "|1969AL01001991910...|\n",
      "|1969AL01001991910...|\n",
      "|1969AL01001991911...|\n",
      "|1969AL01001991911...|\n",
      "|1969AL01001991911...|\n",
      "|1969AL01001991911...|\n",
      "|1969AL01001991911...|\n",
      "|1969AL01001991911...|\n",
      "|1969AL01001991911...|\n",
      "|1969AL01001991911...|\n",
      "|1969AL01001991911...|\n",
      "|1969AL01001991920...|\n",
      "+--------------------+\n",
      "only showing top 20 rows\n",
      "\n"
     ]
    }
   ],
   "source": [
    "pop_data.show()"
   ]
  },
  {
   "cell_type": "code",
   "execution_count": 14,
   "metadata": {},
   "outputs": [],
   "source": [
    "from pyspark.sql import functions as F\n",
    "from pyspark.sql.types import IntegerType\n",
    "\n",
    "pop_data = pop_data.withColumn(\n",
    "    \"year\",\n",
    "    F.substring(F.col(\"value\"), 1, 4)\n",
    ")\n",
    "\n",
    "pop_data = pop_data.withColumn(\n",
    "    \"state\",\n",
    "    F.substring(F.col(\"value\"), 5, 2)\n",
    ")\n",
    "\n",
    "pop_data = pop_data.withColumn(\n",
    "    \"state_fip\",\n",
    "    F.substring(F.col(\"value\"), 7, 2)\n",
    ")\n",
    "\n",
    "pop_data = pop_data.withColumn(\n",
    "    \"county_fip\",\n",
    "    F.substring(F.col(\"value\"), 9, 3)\n",
    ")\n",
    "\n",
    "pop_data = pop_data.withColumn(\n",
    "    \"registry\",\n",
    "    F.substring(F.col(\"value\"), 12, 2)\n",
    ")\n",
    "pop_data = pop_data.withColumn(\n",
    "    \"race\",\n",
    "    F.substring(F.col(\"value\"), 14,1)\n",
    ")\n",
    "pop_data = pop_data.withColumn(\n",
    "    \"origin\",\n",
    "    F.substring(F.col(\"value\"), 15, 1)\n",
    ")\n",
    "\n",
    "pop_data = pop_data.withColumn(\n",
    "    \"sex\",\n",
    "    F.substring(F.col(\"value\"), 16, 1)\n",
    ")\n",
    "\n",
    "pop_data = pop_data.withColumn(\n",
    "    \"age\",\n",
    "    F.substring(F.col(\"value\"), 17, 2)\n",
    ")\n",
    "\n",
    "pop_data = pop_data.withColumn(\n",
    "    \"population\",\n",
    "    F.substring(F.col(\"value\"), 19, 8)\n",
    ")\n",
    "\n",
    "pop_data = pop_data.drop('value')\n",
    "\n",
    "pop_data = pop_data.withColumn(\"population\",pop_data.population.cast(IntegerType()))\n",
    "pop_data = pop_data.withColumn(\"year\",pop_data.year.cast(IntegerType()))\n",
    "\n",
    "pop_data = pop_data.filter((pop_data.year>2005) & (pop_data.year<2015))\n",
    "\n",
    "pop_data = pop_data.groupBy('year','state','state_fip','county_fip','registry').sum('population')\n",
    "\n",
    "pop_data = pop_data.withColumnRenamed(\"sum(population)\", \"population\")\n",
    "\n",
    "pop_data.toPandas().to_csv('D:/opioids/population0612.csv')"
   ]
  }
 ],
 "metadata": {
  "kernelspec": {
   "display_name": "Python 3",
   "language": "python",
   "name": "python3"
  },
  "language_info": {
   "codemirror_mode": {
    "name": "ipython",
    "version": 3
   },
   "file_extension": ".py",
   "mimetype": "text/x-python",
   "name": "python",
   "nbconvert_exporter": "python",
   "pygments_lexer": "ipython3",
   "version": "3.11.6"
  }
 },
 "nbformat": 4,
 "nbformat_minor": 2
}
