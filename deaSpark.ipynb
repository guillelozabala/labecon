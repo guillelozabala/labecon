{
 "cells": [
  {
   "cell_type": "markdown",
   "metadata": {},
   "source": [
    "## labor_project_pyspark_datasets"
   ]
  },
  {
   "cell_type": "markdown",
   "metadata": {},
   "source": [
    "(need java 8 for spark to work. 7zip also recommended to unzip DEA dataset)"
   ]
  },
  {
   "cell_type": "code",
   "execution_count": 1,
   "metadata": {},
   "outputs": [],
   "source": [
    "import pyspark\n",
    "import pandas as pd"
   ]
  },
  {
   "cell_type": "code",
   "execution_count": 2,
   "metadata": {},
   "outputs": [],
   "source": [
    "from pyspark.sql import SparkSession"
   ]
  },
  {
   "cell_type": "code",
   "execution_count": 3,
   "metadata": {},
   "outputs": [],
   "source": [
    "spark = SparkSession.builder.appName('pillsdata').getOrCreate()"
   ]
  },
  {
   "cell_type": "code",
   "execution_count": 4,
   "metadata": {},
   "outputs": [
    {
     "data": {
      "text/html": [
       "\n",
       "            <div>\n",
       "                <p><b>SparkSession - in-memory</b></p>\n",
       "                \n",
       "        <div>\n",
       "            <p><b>SparkContext</b></p>\n",
       "\n",
       "            <p><a href=\"http://host.docker.internal:4040\">Spark UI</a></p>\n",
       "\n",
       "            <dl>\n",
       "              <dt>Version</dt>\n",
       "                <dd><code>v3.5.0</code></dd>\n",
       "              <dt>Master</dt>\n",
       "                <dd><code>local[*]</code></dd>\n",
       "              <dt>AppName</dt>\n",
       "                <dd><code>pillsdata</code></dd>\n",
       "            </dl>\n",
       "        </div>\n",
       "        \n",
       "            </div>\n",
       "        "
      ],
      "text/plain": [
       "<pyspark.sql.session.SparkSession at 0x217006f7f50>"
      ]
     },
     "execution_count": 4,
     "metadata": {},
     "output_type": "execute_result"
    }
   ],
   "source": [
    "spark"
   ]
  },
  {
   "cell_type": "markdown",
   "metadata": {},
   "source": [
    "https://seer.cancer.gov/popdata/download.html"
   ]
  },
  {
   "cell_type": "code",
   "execution_count": 5,
   "metadata": {},
   "outputs": [],
   "source": [
    "pop_data = spark.read.text('D:/opioids/us.1969_2020.19ages.adjusted.txt')"
   ]
  },
  {
   "cell_type": "markdown",
   "metadata": {},
   "source": [
    "https://seer.cancer.gov/popdata/popdic.html"
   ]
  },
  {
   "cell_type": "code",
   "execution_count": 6,
   "metadata": {},
   "outputs": [
    {
     "name": "stdout",
     "output_type": "stream",
     "text": [
      "+----+-----+---------+----------+--------+----+------+---+---+----------+\n",
      "|year|state|state_fip|county_fip|registry|race|origin|sex|age|population|\n",
      "+----+-----+---------+----------+--------+----+------+---+---+----------+\n",
      "|1969|   AL|       01|       001|      99|   1|     9|  1| 00|  00000159|\n",
      "|1969|   AL|       01|       001|      99|   1|     9|  1| 01|  00000657|\n",
      "|1969|   AL|       01|       001|      99|   1|     9|  1| 02|  00001137|\n",
      "|1969|   AL|       01|       001|      99|   1|     9|  1| 03|  00000956|\n",
      "|1969|   AL|       01|       001|      99|   1|     9|  1| 04|  00000721|\n",
      "|1969|   AL|       01|       001|      99|   1|     9|  1| 05|  00000424|\n",
      "|1969|   AL|       01|       001|      99|   1|     9|  1| 06|  00000585|\n",
      "|1969|   AL|       01|       001|      99|   1|     9|  1| 07|  00000637|\n",
      "|1969|   AL|       01|       001|      99|   1|     9|  1| 08|  00000607|\n",
      "|1969|   AL|       01|       001|      99|   1|     9|  1| 09|  00000523|\n",
      "|1969|   AL|       01|       001|      99|   1|     9|  1| 10|  00000466|\n",
      "|1969|   AL|       01|       001|      99|   1|     9|  1| 11|  00000386|\n",
      "|1969|   AL|       01|       001|      99|   1|     9|  1| 12|  00000357|\n",
      "|1969|   AL|       01|       001|      99|   1|     9|  1| 13|  00000268|\n",
      "|1969|   AL|       01|       001|      99|   1|     9|  1| 14|  00000179|\n",
      "|1969|   AL|       01|       001|      99|   1|     9|  1| 15|  00000126|\n",
      "|1969|   AL|       01|       001|      99|   1|     9|  1| 16|  00000076|\n",
      "|1969|   AL|       01|       001|      99|   1|     9|  1| 17|  00000049|\n",
      "|1969|   AL|       01|       001|      99|   1|     9|  1| 18|  00000031|\n",
      "|1969|   AL|       01|       001|      99|   1|     9|  2| 00|  00000151|\n",
      "+----+-----+---------+----------+--------+----+------+---+---+----------+\n",
      "only showing top 20 rows\n",
      "\n"
     ]
    }
   ],
   "source": [
    "from pyspark.sql import functions as F\n",
    "\n",
    "pop_data = pop_data.withColumn(\n",
    "    \"year\",\n",
    "    F.substring(F.col(\"value\"), 1, 4)\n",
    ")\n",
    "\n",
    "pop_data = pop_data.withColumn(\n",
    "    \"state\",\n",
    "    F.substring(F.col(\"value\"), 5, 2)\n",
    ")\n",
    "\n",
    "pop_data = pop_data.withColumn(\n",
    "    \"state_fip\",\n",
    "    F.substring(F.col(\"value\"), 7, 2)\n",
    ")\n",
    "\n",
    "pop_data = pop_data.withColumn(\n",
    "    \"county_fip\",\n",
    "    F.substring(F.col(\"value\"), 9, 3)\n",
    ")\n",
    "\n",
    "pop_data = pop_data.withColumn(\n",
    "    \"registry\",\n",
    "    F.substring(F.col(\"value\"), 12, 2)\n",
    ")\n",
    "pop_data = pop_data.withColumn(\n",
    "    \"race\",\n",
    "    F.substring(F.col(\"value\"), 14,1)\n",
    ")\n",
    "pop_data = pop_data.withColumn(\n",
    "    \"origin\",\n",
    "    F.substring(F.col(\"value\"), 15, 1)\n",
    ")\n",
    "\n",
    "pop_data = pop_data.withColumn(\n",
    "    \"sex\",\n",
    "    F.substring(F.col(\"value\"), 16, 1)\n",
    ")\n",
    "\n",
    "pop_data = pop_data.withColumn(\n",
    "    \"age\",\n",
    "    F.substring(F.col(\"value\"), 17, 2)\n",
    ")\n",
    "\n",
    "pop_data = pop_data.withColumn(\n",
    "    \"population\",\n",
    "    F.substring(F.col(\"value\"), 19, 8)\n",
    ")\n",
    "\n",
    "pop_data = pop_data.drop('value')"
   ]
  },
  {
   "cell_type": "code",
   "execution_count": 7,
   "metadata": {},
   "outputs": [],
   "source": [
    "from pyspark.sql.types import IntegerType\n",
    "pop_data = pop_data.withColumn(\"population\",pop_data.population.cast(IntegerType()))\n",
    "pop_data = pop_data.withColumn(\"year\",pop_data.year.cast(IntegerType()))"
   ]
  },
  {
   "cell_type": "code",
   "execution_count": 8,
   "metadata": {},
   "outputs": [],
   "source": [
    "pop_data = pop_data.filter(pop_data.year>1997)"
   ]
  },
  {
   "cell_type": "code",
   "execution_count": 9,
   "metadata": {},
   "outputs": [],
   "source": [
    "pop_data = pop_data.groupBy('year','state','state_fip','county_fip','registry').sum('population')"
   ]
  },
  {
   "cell_type": "code",
   "execution_count": 10,
   "metadata": {},
   "outputs": [],
   "source": [
    "pop_data = pop_data.withColumnRenamed(\"sum(population)\", \"population\")"
   ]
  },
  {
   "cell_type": "markdown",
   "metadata": {},
   "source": [
    "https://www.washingtonpost.com/national/2019/07/18/how-download-use-dea-pain-pills-database/"
   ]
  },
  {
   "cell_type": "code",
   "execution_count": 11,
   "metadata": {},
   "outputs": [],
   "source": [
    "DEA_data = spark.read.csv('D:/opioids/arcos_all_washpost/arcos_all_washpost.tsv', sep='\\t',header=True)"
   ]
  },
  {
   "cell_type": "code",
   "execution_count": 12,
   "metadata": {},
   "outputs": [
    {
     "name": "stdout",
     "output_type": "stream",
     "text": [
      "+---------------+----------------+--------------------+---------------------+-----------------+-----------------+-------------+--------------+------------+---------------+------------+-------------------+--------------------+--------------------+--------------------+---------------+----------+-----------+---------+------------+----------------+---------+-----------+-----------+--------+----+----------------+-------------+-------------+--------+----------------+------------------+-----------+--------------+--------------------+--------------------+-------+---------------------+---------------------+--------------------+--------------------+-------+\n",
      "|REPORTER_DEA_NO|REPORTER_BUS_ACT|       REPORTER_NAME|REPORTER_ADDL_CO_INFO|REPORTER_ADDRESS1|REPORTER_ADDRESS2|REPORTER_CITY|REPORTER_STATE|REPORTER_ZIP|REPORTER_COUNTY|BUYER_DEA_NO|      BUYER_BUS_ACT|          BUYER_NAME|  BUYER_ADDL_CO_INFO|      BUYER_ADDRESS1| BUYER_ADDRESS2|BUYER_CITY|BUYER_STATE|BUYER_ZIP|BUYER_COUNTY|TRANSACTION_CODE|DRUG_CODE|     NDC_NO|  DRUG_NAME|QUANTITY|UNIT|ACTION_INDICATOR|ORDER_FORM_NO|CORRECTION_NO|STRENGTH|TRANSACTION_DATE|CALC_BASE_WT_IN_GM|DOSAGE_UNIT|TRANSACTION_ID|        Product_Name|     Ingredient_Name|Measure|MME_Conversion_Factor|Combined_Labeler_Name|Revised_Company_Name|     Reporter_family|dos_str|\n",
      "+---------------+----------------+--------------------+---------------------+-----------------+-----------------+-------------+--------------+------------+---------------+------------+-------------------+--------------------+--------------------+--------------------+---------------+----------+-----------+---------+------------+----------------+---------+-----------+-----------+--------+----+----------------+-------------+-------------+--------+----------------+------------------+-----------+--------------+--------------------+--------------------+-------+---------------------+---------------------+--------------------+--------------------+-------+\n",
      "|      PA0006836|     DISTRIBUTOR|ACE SURGICAL SUPP...|                 null|1034 PEARL STREET|             null|     BROCKTON|            MA|        2301|       PLYMOUTH|   BT3484653|       PRACTITIONER|TABRIZI, HAMID R DMD|                null|389 MAIN STREET, ...|           null|    MALDEN|         MA|     2148|   MIDDLESEX|               S|     9193|00406036301|HYDROCODONE|     1.0|null|            null|         null|         null|    null|        12262012|            0.6054|      100.0|            64|HYDROCODONE BIT/A...|HYDROCODONE BITAR...|    TAB|                  1.0|           SpecGx LLC|        Mallinckrodt|ACE Surgical Supp...|   10.0|\n",
      "|      PA0021179|     DISTRIBUTOR|        APOTHECA INC|                 null|   1622 N 16TH ST|             null|      PHOENIX|            AZ|       85006|       MARICOPA|   BA9740019|    RETAIL PHARMACY|APOTHECARY SHOP D...|                null|     23620 N 20TH DR|            #12|   PHOENIX|         AZ|    85085|    MARICOPA|               S|     9193|12634051400|HYDROCODONE|     4.0|null|            null|         null|         null|    null|        03112009|           0.12108|       40.0|            52|HYDROCODONE BITAR...|HYDROCODONE BITAR...|    TAB|                  1.0|        Apotheca Inc.|       Apotheca Inc.|        Apotheca Inc|    5.0|\n",
      "|      PA0021179|     DISTRIBUTOR|        APOTHECA INC|                 null|   1622 N 16TH ST|             null|      PHOENIX|            AZ|       85006|       MARICOPA|   BH5651155|       PRACTITIONER|HOBBS, DOUGLAS DO...|                null|URGENT CARE EXTRA...|641 WEST WARNER|   GILBERT|         AZ|    85233|    MARICOPA|               S|     9193|12634051471|HYDROCODONE|    40.0|null|            null|         null|         null|    null|        11252008|            3.6324|     1200.0|           119|HYDROCODONE BITAR...|HYDROCODONE BITAR...|    TAB|                  1.0|        Apotheca Inc.|       Apotheca Inc.|        Apotheca Inc|    5.0|\n",
      "|      PA0021179|     DISTRIBUTOR|        APOTHECA INC|                 null|   1622 N 16TH ST|             null|      PHOENIX|            AZ|       85006|       MARICOPA|   BH5651155|       PRACTITIONER|HOBBS, DOUGLAS DO...|                null|URGENT CARE EXTRA...|641 WEST WARNER|   GILBERT|         AZ|    85233|    MARICOPA|               S|     9193|12634078371|HYDROCODONE|    20.0|null|            null|         null|         null|    null|        06122009|            2.7243|      600.0|            34|HYDROCODONEBITART...|HYDROCODONE BITAR...|    TAB|                  1.0|        Apotheca Inc.|       Apotheca Inc.|        Apotheca Inc|    7.5|\n",
      "|      PA0021179|     DISTRIBUTOR|        APOTHECA INC|                 null|   1622 N 16TH ST|             null|      PHOENIX|            AZ|       85006|       MARICOPA|   BH5651155|       PRACTITIONER|HOBBS, DOUGLAS DO...|                null|URGENT CARE EXTRA...|641 WEST WARNER|   GILBERT|         AZ|    85233|    MARICOPA|               S|     9193|12634051471|HYDROCODONE|    10.0|null|            null|         null|         null|    null|        10022009|            0.9081|      300.0|            19|HYDROCODONE BITAR...|HYDROCODONE BITAR...|    TAB|                  1.0|        Apotheca Inc.|       Apotheca Inc.|        Apotheca Inc|    5.0|\n",
      "|      PA0021179|     DISTRIBUTOR|        APOTHECA INC|                 null|   1622 N 16TH ST|             null|      PHOENIX|            AZ|       85006|       MARICOPA|   BH5651155|       PRACTITIONER|HOBBS, DOUGLAS DO...|                null|URGENT CARE EXTRA...|641 WEST WARNER|   GILBERT|         AZ|    85233|    MARICOPA|               S|     9193|12634051471|HYDROCODONE|    20.0|null|            null|         null|         null|    null|        03232010|            1.8162|      600.0|            73|HYDROCODONE BITAR...|HYDROCODONE BITAR...|    TAB|                  1.0|        Apotheca Inc.|       Apotheca Inc.|        Apotheca Inc|    5.0|\n",
      "|      PA0021179|     DISTRIBUTOR|        APOTHECA INC|                 null|   1622 N 16TH ST|             null|      PHOENIX|            AZ|       85006|       MARICOPA|   BJ5858002|       PRACTITIONER|JEFFERS, WILL VAH...|            NOW CARE|8251 W UNION HILL...|      SUITE 140|  GLENDALE|         AZ|    85308|    MARICOPA|               S|     9193|12634051485|HYDROCODONE|     5.0|null|            null|         null|         null|    null|        10112007|          0.227025|       75.0|            58|HYDROCODONE BITAR...|HYDROCODONE BITAR...|    TAB|                  1.0|        Apotheca Inc.|       Apotheca Inc.|        Apotheca Inc|    5.0|\n",
      "|      PA0021179|     DISTRIBUTOR|        APOTHECA INC|                 null|   1622 N 16TH ST|             null|      PHOENIX|            AZ|       85006|       MARICOPA|   BJ5858002|       PRACTITIONER|JEFFERS, WILL VAH...|            NOW CARE|8251 W UNION HILL...|      SUITE 140|  GLENDALE|         AZ|    85308|    MARICOPA|               S|     9193|12634051485|HYDROCODONE|    10.0|null|            null|         null|         null|    null|        01112008|           0.45405|      150.0|            79|HYDROCODONE BITAR...|HYDROCODONE BITAR...|    TAB|                  1.0|        Apotheca Inc.|       Apotheca Inc.|        Apotheca Inc|    5.0|\n",
      "|      PA0021179|     DISTRIBUTOR|        APOTHECA INC|                 null|   1622 N 16TH ST|             null|      PHOENIX|            AZ|       85006|       MARICOPA|   BJ5858002|       PRACTITIONER|JEFFERS, WILL VAH...|            NOW CARE|8251 W UNION HILL...|      SUITE 140|  GLENDALE|         AZ|    85308|    MARICOPA|               S|     9193|12634051485|HYDROCODONE|    10.0|null|            null|         null|         null|    null|        07142008|           0.45405|      150.0|            65|HYDROCODONE BITAR...|HYDROCODONE BITAR...|    TAB|                  1.0|        Apotheca Inc.|       Apotheca Inc.|        Apotheca Inc|    5.0|\n",
      "|      PA0021179|     DISTRIBUTOR|        APOTHECA INC|                 null|   1622 N 16TH ST|             null|      PHOENIX|            AZ|       85006|       MARICOPA|   BJ5858002|       PRACTITIONER|JEFFERS, WILL VAH...|            NOW CARE|8251 W UNION HILL...|      SUITE 140|  GLENDALE|         AZ|    85308|    MARICOPA|               S|     9193|12634051485|HYDROCODONE|    10.0|null|            null|         null|         null|    null|        12052012|           0.45405|      150.0|             5|HYDROCODONE BITAR...|HYDROCODONE BITAR...|    TAB|                  1.0|        Apotheca Inc.|       Apotheca Inc.|        Apotheca Inc|    5.0|\n",
      "|      PA0021179|     DISTRIBUTOR|        APOTHECA INC|                 null|   1622 N 16TH ST|             null|      PHOENIX|            AZ|       85006|       MARICOPA|   BK7485863|PRACTITIONER-DW/275|    KHOURY, MUFID MD|                null|6220 W BELL ROAD ...|           null|  GLENDALE|         AZ|    85308|    MARICOPA|               S|     9193|12634051480|HYDROCODONE|    10.0|null|            null|         null|         null|    null|        07242012|            0.6054|      200.0|            64|HYDROCODONE BITAR...|HYDROCODONE BITAR...|    TAB|                  1.0|        Apotheca Inc.|       Apotheca Inc.|        Apotheca Inc|    5.0|\n",
      "|      PA0021179|     DISTRIBUTOR|        APOTHECA INC|                 null|   1622 N 16TH ST|             null|      PHOENIX|            AZ|       85006|       MARICOPA|   BL2528404|       PRACTITIONER| LEDERMAN, EVAN S MD|                null|2222 E. HIGHLAND ...|      SUITE 300|   PHOENIX|         AZ|    85016|    MARICOPA|               S|     9193|12634078371|HYDROCODONE|    10.0|null|            null|         null|     00000771|    null|        01072008|           1.36215|      300.0|            53|HYDROCODONEBITART...|HYDROCODONE BITAR...|    TAB|                  1.0|        Apotheca Inc.|       Apotheca Inc.|        Apotheca Inc|    7.5|\n",
      "|      PA0021179|     DISTRIBUTOR|        APOTHECA INC|                 null|   1622 N 16TH ST|             null|      PHOENIX|            AZ|       85006|       MARICOPA|   BN9327859|       PRACTITIONER| NUCATOLA, DEBORAH L|                null| 5400 RALSTON STREET|           null|   VENTURA|         CA|    93003|     VENTURA|               S|     9193|12634051400|HYDROCODONE|    20.0|null|            null|         null|         null|    null|        02092007|            0.6054|      200.0|            30|HYDROCODONE BITAR...|HYDROCODONE BITAR...|    TAB|                  1.0|        Apotheca Inc.|       Apotheca Inc.|        Apotheca Inc|    5.0|\n",
      "|      PA0021179|     DISTRIBUTOR|        APOTHECA INC|                 null|   1622 N 16TH ST|             null|      PHOENIX|            AZ|       85006|       MARICOPA|   BS7305039|       PRACTITIONER| SAWYER, JEFFRY S MD|                null|  5615 S SOSSAMAN RD|           null|      MESA|         AZ|    85212|    MARICOPA|               S|     9193|12634051471|HYDROCODONE|    40.0|null|            null|         null|         null|    null|        09122007|            3.6324|     1200.0|            68|HYDROCODONE BITAR...|HYDROCODONE BITAR...|    TAB|                  1.0|        Apotheca Inc.|       Apotheca Inc.|        Apotheca Inc|    5.0|\n",
      "|      PA0021179|     DISTRIBUTOR|        APOTHECA INC|                 null|   1622 N 16TH ST|             null|      PHOENIX|            AZ|       85006|       MARICOPA|   BS7305039|       PRACTITIONER| SAWYER, JEFFRY S MD|                null|  5615 S SOSSAMAN RD|           null|      MESA|         AZ|    85212|    MARICOPA|               S|     9193|12634051471|HYDROCODONE|    20.0|null|            null|         null|         null|    null|        11072008|            1.8162|      600.0|            23|HYDROCODONE BITAR...|HYDROCODONE BITAR...|    TAB|                  1.0|        Apotheca Inc.|       Apotheca Inc.|        Apotheca Inc|    5.0|\n",
      "|      PA0021179|     DISTRIBUTOR|        APOTHECA INC|                 null|   1622 N 16TH ST|             null|      PHOENIX|            AZ|       85006|       MARICOPA|   BS7305039|       PRACTITIONER| SAWYER, JEFFRY S MD|                null|  5615 S SOSSAMAN RD|           null|      MESA|         AZ|    85212|    MARICOPA|               S|     9193|12634078371|HYDROCODONE|    20.0|null|            null|         null|         null|    null|        10122009|            2.7243|      600.0|            51|HYDROCODONEBITART...|HYDROCODONE BITAR...|    TAB|                  1.0|        Apotheca Inc.|       Apotheca Inc.|        Apotheca Inc|    7.5|\n",
      "|      PA0021179|     DISTRIBUTOR|        APOTHECA INC|                 null|   1622 N 16TH ST|             null|      PHOENIX|            AZ|       85006|       MARICOPA|   BS7305039|       PRACTITIONER| SAWYER, JEFFRY S MD|                null|  5615 S SOSSAMAN RD|           null|      MESA|         AZ|    85212|    MARICOPA|               S|     9193|12634078371|HYDROCODONE|    10.0|null|            null|         null|         null|    null|        02042012|           1.36215|      300.0|            16|HYDROCODONEBITART...|HYDROCODONE BITAR...|    TAB|                  1.0|        Apotheca Inc.|       Apotheca Inc.|        Apotheca Inc|    7.5|\n",
      "|      PA0021179|     DISTRIBUTOR|        APOTHECA INC|                 null|   1622 N 16TH ST|             null|      PHOENIX|            AZ|       85006|       MARICOPA|   BS9061336|PRACTITIONER-DW/275|SLOAN, RICK MICHA...|COMPASSIONATE CAR...|3201 WEST PEORIA ...|     SUITE D805|   PHOENIX|         AZ|    85029|    MARICOPA|               S|     9193|12634051480|HYDROCODONE|    10.0|null|            null|         null|         null|    null|        01172011|            0.6054|      200.0|            48|HYDROCODONE BITAR...|HYDROCODONE BITAR...|    TAB|                  1.0|        Apotheca Inc.|       Apotheca Inc.|        Apotheca Inc|    5.0|\n",
      "|      PA0021179|     DISTRIBUTOR|        APOTHECA INC|                 null|   1622 N 16TH ST|             null|      PHOENIX|            AZ|       85006|       MARICOPA|   BT6145937|       PRACTITIONER|TORRES, JOHN EDUA...|COMPLETE EMERGENC...| 2035 S. PUEBLO BLVD|           null|    PUEBLO|         CO|    81005|      PUEBLO|               S|     9193|12634051485|HYDROCODONE|    10.0|null|            null|         null|         null|    null|        01122009|           0.45405|      150.0|            30|HYDROCODONE BITAR...|HYDROCODONE BITAR...|    TAB|                  1.0|        Apotheca Inc.|       Apotheca Inc.|        Apotheca Inc|    5.0|\n",
      "|      PA0021179|     DISTRIBUTOR|        APOTHECA INC|                 null|   1622 N 16TH ST|             null|      PHOENIX|            AZ|       85006|       MARICOPA|   FA1240592|    RETAIL PHARMACY|AVELLA OF DEER VA...|                null| 23620 N 20TH DR #12|           null|   PHOENIX|         AZ|    85085|    MARICOPA|               S|     9193|12634051496|HYDROCODONE|     4.0|null|            null|         null|         null|    null|        11052009|          0.072648|       24.0|            24|HYDROCODONE BITAR...|HYDROCODONE BITAR...|    TAB|                  1.0|        Apotheca Inc.|       Apotheca Inc.|        Apotheca Inc|    5.0|\n",
      "+---------------+----------------+--------------------+---------------------+-----------------+-----------------+-------------+--------------+------------+---------------+------------+-------------------+--------------------+--------------------+--------------------+---------------+----------+-----------+---------+------------+----------------+---------+-----------+-----------+--------+----+----------------+-------------+-------------+--------+----------------+------------------+-----------+--------------+--------------------+--------------------+-------+---------------------+---------------------+--------------------+--------------------+-------+\n",
      "only showing top 20 rows\n",
      "\n"
     ]
    }
   ],
   "source": [
    "DEA_data.show()"
   ]
  },
  {
   "cell_type": "code",
   "execution_count": 13,
   "metadata": {},
   "outputs": [],
   "source": [
    "DEA_data = DEA_data.select(['BUYER_STATE','BUYER_COUNTY','DRUG_NAME','QUANTITY','TRANSACTION_DATE'])\n",
    "DEA_data = DEA_data.filter((DEA_data.DRUG_NAME == 'HYDROCODONE') & (DEA_data.DRUG_NAME == 'OXYCODONE'))"
   ]
  },
  {
   "cell_type": "code",
   "execution_count": 14,
   "metadata": {},
   "outputs": [],
   "source": [
    "DEA_data = DEA_data.withColumn(\n",
    "    \"year\",\n",
    "    F.substring(F.col(\"TRANSACTION_DATE\"), 5, 4)\n",
    ")\n",
    "\n",
    "DEA_data = DEA_data.withColumn(\n",
    "    \"month\",\n",
    "    F.substring(F.col(\"TRANSACTION_DATE\"), 1, 2)\n",
    ")"
   ]
  },
  {
   "cell_type": "code",
   "execution_count": 71,
   "metadata": {},
   "outputs": [],
   "source": [
    "DEA_data = DEA_data.drop('TRANSACTION_DATE')"
   ]
  },
  {
   "cell_type": "code",
   "execution_count": 17,
   "metadata": {},
   "outputs": [],
   "source": [
    "DEA_data = DEA_data.withColumn(\"QUANTITY\",DEA_data.QUANTITY.cast(IntegerType()))\n",
    "DEA_data = DEA_data.groupBy('BUYER_STATE','BUYER_COUNTY','DRUG_NAME','year','month').sum('QUANTITY')\n",
    "DEA_data = DEA_data.withColumnRenamed(\"sum(DEA_data)\", \"quantity\")"
   ]
  },
  {
   "cell_type": "code",
   "execution_count": 24,
   "metadata": {},
   "outputs": [],
   "source": [
    "from pyspark.sql.functions import *\n",
    "DEA_data = DEA_data.withColumn(\"year\",DEA_data.year.cast(IntegerType()))\n",
    "maxyear = DEA_data.select(max(col('year')).alias('maxyear')).first().maxyear\n",
    "minyear = DEA_data.select(min(col('year')).alias('minyear')).first().minyear"
   ]
  },
  {
   "cell_type": "code",
   "execution_count": null,
   "metadata": {},
   "outputs": [],
   "source": [
    "pop_data = pop_data.filter((pop_data.year<=maxyear) & (pop_data.year>=minyear))"
   ]
  },
  {
   "cell_type": "code",
   "execution_count": null,
   "metadata": {},
   "outputs": [],
   "source": [
    "merged_data = DEA_data.join(pop_data , on=['year','BUYER_COUNTY'] , how = 'left')"
   ]
  },
  {
   "cell_type": "code",
   "execution_count": null,
   "metadata": {},
   "outputs": [],
   "source": [
    "merged_data.show()"
   ]
  },
  {
   "cell_type": "code",
   "execution_count": null,
   "metadata": {},
   "outputs": [],
   "source": [
    "merged_data = merged_data.withColumn('pills_per_capita', merged_data.QUANTITIES/merged_data.population)"
   ]
  },
  {
   "cell_type": "code",
   "execution_count": null,
   "metadata": {},
   "outputs": [],
   "source": [
    "reduced_data = merged_data.select(['year','month','BUYER_STATE','BUYER_COUNTY','state_fip','county_fip','pills_per_capita'])\n",
    "reduced_data = reduced_data.withColumnsRenamed({'BUYER_STATE': 'state_name', 'BUYER_COUNTY': 'county_name'})"
   ]
  },
  {
   "cell_type": "code",
   "execution_count": null,
   "metadata": {},
   "outputs": [],
   "source": [
    "reduced_data.toPandas().to_csv('D:/opioids/reduced_opioid_data.csv')"
   ]
  }
 ],
 "metadata": {
  "kernelspec": {
   "display_name": "Python 3",
   "language": "python",
   "name": "python3"
  },
  "language_info": {
   "codemirror_mode": {
    "name": "ipython",
    "version": 3
   },
   "file_extension": ".py",
   "mimetype": "text/x-python",
   "name": "python",
   "nbconvert_exporter": "python",
   "pygments_lexer": "ipython3",
   "version": "3.11.6"
  }
 },
 "nbformat": 4,
 "nbformat_minor": 2
}
